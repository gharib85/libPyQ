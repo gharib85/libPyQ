{
 "cells": [
  {
   "cell_type": "markdown",
   "metadata": {},
   "source": [
    "# Some fufs"
   ]
  },
  {
   "cell_type": "code",
   "execution_count": 1,
   "metadata": {},
   "outputs": [],
   "source": [
    "from sympy import *\n",
    "import numpy as np\n",
    "init_printing(use_unicode=True)\n",
    "from matplotlib import pyplot as plt\n",
    "%matplotlib inline"
   ]
  },
  {
   "cell_type": "markdown",
   "metadata": {},
   "source": [
    "## Pauli matrices\n",
    "\\begin{equation}\n",
    "\\sigma_{0} = \\begin{bmatrix} 1 & 0 \\\\ 0 & 1 \\end{bmatrix}\\text{, }\n",
    "\\sigma_{1} = \\begin{bmatrix} 0 & 1 \\\\ 1 & 0 \\end{bmatrix}\\text{, }\n",
    "\\sigma_{2} = \\begin{bmatrix} 0 & -i \\\\ i & 0 \\end{bmatrix}\\text{, }\n",
    "\\sigma_{3} = \\begin{bmatrix} 1 & 0 \\\\ 0 & -1 \\end{bmatrix}.\n",
    "\\end{equation}"
   ]
  },
  {
   "cell_type": "code",
   "execution_count": 2,
   "metadata": {},
   "outputs": [],
   "source": [
    "def Pauli(j):\n",
    "    if j == 0:\n",
    "        return Matrix([[1,0],[0,1]])\n",
    "    elif j == 1:\n",
    "        return Matrix([[0,1],[1,0]])\n",
    "    elif j == 2:\n",
    "        return Matrix([[0,-1j],[1j,0]])\n",
    "    elif j == 3:\n",
    "        return Matrix([[1,0],[0,-1]])"
   ]
  },
  {
   "cell_type": "markdown",
   "metadata": {},
   "source": [
    "## One-qubit states\n",
    "\\begin{equation}\n",
    "\\rho = \\frac{1}{2}\\left(\\sigma_{0}+\\sum_{j=1}r_{j}\\sigma_{j}\\right)\n",
    "= \n",
    "\\frac{1}{2}\n",
    "\\begin{bmatrix}\n",
    "1+r_{3} & r_{1}-ir_{2} \\\\\n",
    "r_{1}+ir_{2} & 1-r_{3}\n",
    "\\end{bmatrix}.\n",
    "\\end{equation}"
   ]
  },
  {
   "cell_type": "code",
   "execution_count": 7,
   "metadata": {},
   "outputs": [],
   "source": [
    "r1, r2, r3 = symbols('r1 r2 r3')\n",
    "rho = (1/2)*(Pauli(0) + r1*Pauli(1) + r2*Pauli(2) + r3*Pauli(3))"
   ]
  },
  {
   "cell_type": "markdown",
   "metadata": {},
   "source": [
    "## Tensor product"
   ]
  },
  {
   "cell_type": "code",
   "execution_count": 9,
   "metadata": {},
   "outputs": [],
   "source": [
    "from sympy.physics.quantum import TensorProduct\n",
    "def tp(x,y):\n",
    "    return TensorProduct(x,y)"
   ]
  },
  {
   "cell_type": "markdown",
   "metadata": {},
   "source": [
    "## Two-qubit states\n",
    "\\begin{align}\n",
    "\\rho & = \\frac{1}{4}\\left(\\sigma_{0}\\otimes\\sigma_{0} + \\sigma_{0}\\otimes\\sum_{k=1}^{3}b_{k}\\sigma_{k} + \\sum_{j=1}^{3}a_{j}\\sigma_{j}\\otimes\\sigma_{0} + \\sum_{j,k=1}^{3}c_{jk}\\sigma_{j}\\otimes\\sigma_{k}\\right) \\\\\n",
    "& = \\frac{1}{4}\n",
    "\\begin{bmatrix}\n",
    "1+a_{3}+b_{3}+c_{33} & b_{1}-ib_{2}+c_{31}-ic_{32} & a_{1}-ia_{2}+c_{13}-ic_{23} & c_{11}-c_{22}-i(c_{12}+c_{21}) \\\\\n",
    "b_{1}+ib_{2}+c_{31}+ic_{32} & 1+a_{3}-b_{3}-c_{33} & c_{11}+c_{22}+i(c_{12}-c_{21}) & a_{1}-ia_{2}-c_{13}+ic_{23} \\\\\n",
    "a_{1}+ia_{2}+c_{13}+ic_{23} & c_{11}+c_{22}-i(c_{12}-c_{21}) & 1-a_{3}+b_{3}-c_{33} & b_{1}-ib_{2}-c_{31}+ic_{32} \\\\\n",
    "c_{11}-c_{22}+i(c_{12}+c_{21}) & a_{1}+ia_{2}-c_{13}-ic_{23} & b_{1}+ib_{2}-c_{31}-ic_{32} & 1-a_{3}-b_{3}+c_{33}\n",
    "\\end{bmatrix}.\n",
    "\\end{align}"
   ]
  },
  {
   "cell_type": "code",
   "execution_count": 17,
   "metadata": {},
   "outputs": [],
   "source": [
    "a1, a2, a3, b1, b2, b3, c11, c12, c13, c21, c22, c23, c31, c32, c33 = symbols('a1 a2 a3 b1 b2 b3 c11 c12 c13 c21 c22 c23 c31 c32 c33')\n",
    "rhoAB = (1/4)*(tp(Pauli(0),Pauli(0)) + b1*tp(Pauli(0),Pauli(1)) + b2*tp(Pauli(0),Pauli(2)) + b3*tp(Pauli(0),Pauli(3))\n",
    "          + a1*tp(Pauli(1),Pauli(0)) + c11*tp(Pauli(1),Pauli(1)) + c12*tp(Pauli(1),Pauli(2)) + c13*tp(Pauli(1),Pauli(3))\n",
    "          + a2*tp(Pauli(2),Pauli(0)) + c21*tp(Pauli(2),Pauli(1)) + c22*tp(Pauli(2),Pauli(2)) + c23*tp(Pauli(2),Pauli(3))\n",
    "          + a3*tp(Pauli(3),Pauli(0)) + c31*tp(Pauli(3),Pauli(1)) + c32*tp(Pauli(3),Pauli(2)) + c33*tp(Pauli(3),Pauli(3)))\n"
   ]
  },
  {
   "cell_type": "markdown",
   "metadata": {},
   "source": [
    "## Bell basis\n",
    "\\begin{align}\n",
    "|\\Phi_{+}\\rangle & = |B_{00}\\rangle = (|00\\rangle+|11\\rangle)/\\sqrt{2}, \\\\\n",
    "|\\Psi_{+}\\rangle & = |B_{01}\\rangle = (|01\\rangle+|10\\rangle)/\\sqrt{2}, \\\\\n",
    "|\\Phi_{-}\\rangle & = |B_{10}\\rangle = (|00\\rangle-|11\\rangle)/\\sqrt{2}, \\\\\n",
    "|\\Psi_{-}\\rangle & = |B_{11}\\rangle = (|01\\rangle-|10\\rangle)/\\sqrt{2}.\n",
    "\\end{align}"
   ]
  },
  {
   "cell_type": "code",
   "execution_count": 18,
   "metadata": {},
   "outputs": [],
   "source": [
    "def Bell(j,k):\n",
    "    if j == 0 and k == 0:\n",
    "        return (1/sqrt(2))*Matrix([[1],[0],[0],[1]]) # phi+\n",
    "    elif j == 0 and k == 1:\n",
    "        return (1/sqrt(2))*Matrix([[0],[1],[1],[0]]) # psi+\n",
    "    elif j == 1 and k == 0:\n",
    "        return (1/sqrt(2))*Matrix([[1],[0],[0],[-1]]) # phi-\n",
    "    elif j == 1 and k == 1:\n",
    "        return (1/sqrt(2))*Matrix([[0],[1],[-1],[0]]) # psi-"
   ]
  },
  {
   "cell_type": "markdown",
   "metadata": {},
   "source": [
    "## Partial trace\n",
    "\\begin{align}\n",
    "\\rho_{b}[j,k] & = \\sum_{l=0}^{d_{a}-1}\\rho[ld_{b}+j,ld_{b}+k], \\\\\n",
    "\\rho_{a}[j,k] & = \\sum_{l=0}^{d_{b}-1}\\rho[jd_{b}+l,k d_{b}+l].\n",
    "\\end{align}"
   ]
  },
  {
   "cell_type": "code",
   "execution_count": 20,
   "metadata": {},
   "outputs": [],
   "source": [
    "# Outside these functions, initialize: rhos = zeros(ds)\n",
    "def pTraceL(da, db, rho):\n",
    "    for j in range(0, db):\n",
    "        for k in range(0, db):\n",
    "            for l in range(0, da):\n",
    "                rhoB[j,k] += rho[l*db+j,l*db+k]\n",
    "    return rhoB\n",
    "def pTraceR(da, db, rho):\n",
    "    for j in range(0, da):\n",
    "        for k in range(0, da):\n",
    "            for l in range(0, db):\n",
    "                rhoA[j,k] += rho[j*db+l,k*db+l]\n",
    "    return rhoA"
   ]
  },
  {
   "cell_type": "markdown",
   "metadata": {},
   "source": [
    "## Partial transpose\n",
    "\\begin{align}\n",
    "\\langle j_{a}j_{b}|T_{a}(\\rho)|k_{a}k_{b}\\rangle & = \\langle k_{a}j_{b}|\\rho|j_{a}k_{b}\\rangle, \\\\\n",
    "\\langle j_{a}j_{b}|T_{b}(\\rho)|k_{a}k_{b}\\rangle & = \\langle j_{a}k_{b}|\\rho|k_{a}j_{b}\\rangle,\n",
    "\\end{align}\n",
    "and $|j\\otimes k\\rangle = |jd_{b}+k\\rangle$."
   ]
  },
  {
   "cell_type": "code",
   "execution_count": 13,
   "metadata": {},
   "outputs": [],
   "source": [
    "# Outside these functions, initialize: rhoTs = zeros(da*db)\n",
    "def pTransposeB(da, db, rho):\n",
    "    for ja in range(0,da):\n",
    "        for ka in range(0,da):\n",
    "            for jb in range(0,db):\n",
    "                for kb in range(0,db):\n",
    "                    rhoTb[ja*db+kb,ka*db+jb] = rho[ja*db+jb,ka*db+kb]\n",
    "    return rhoTb\n",
    "def pTransposeA(da, db, rho):\n",
    "    for ja in range(0,da):\n",
    "        for ka in range(0,da):\n",
    "            for jb in range(0,db):\n",
    "                for kb in range(0,db):\n",
    "                    rhoTa[ka*db+jb,ja*db+kb] = rho[ja*db+jb,ka*db+kb]\n",
    "    return rhoTa"
   ]
  },
  {
   "cell_type": "markdown",
   "metadata": {},
   "source": [
    "## Eigenvalues in a vector"
   ]
  },
  {
   "cell_type": "code",
   "execution_count": 14,
   "metadata": {},
   "outputs": [],
   "source": [
    "# Outside this function, initialize: evals = zeros(d)\n",
    "def eVals(d, A):\n",
    "    eig = A.eigenvects()\n",
    "    ne = 0;  j = 0;  lk = 0\n",
    "    while ne < d:\n",
    "        mult = eig[j][1];  ne += mult;  nk = lk + mult\n",
    "        for k in range(lk,nk):\n",
    "            evals[k] = eig[j][0]\n",
    "        lk = nk;  j += 1\n",
    "    return evals"
   ]
  },
  {
   "cell_type": "markdown",
   "metadata": {},
   "source": [
    "### Trace norm\n",
    "\\begin{equation}\n",
    "||A||_{tr} = \\mathrm{Tr}\\sqrt{A^{\\dagger}A} = \\sum_{j}|a_{j}|,\n",
    "\\end{equation}\n",
    "for $A=\\sum_{j}a_{j}|a_{j}\\rangle\\langle a_{j}|$."
   ]
  },
  {
   "cell_type": "code",
   "execution_count": 15,
   "metadata": {},
   "outputs": [],
   "source": [
    "def normTr(d, A):\n",
    "    eva = eVals(d, A)\n",
    "    TrNorm = 0\n",
    "    for j in range(0,d):\n",
    "        TrNorm += abs(eva[j])\n",
    "    return TrNorm"
   ]
  },
  {
   "cell_type": "markdown",
   "metadata": {},
   "source": [
    "### Entanglement negativity\n",
    "\\begin{equation}\n",
    "E_{n}(\\rho) = \\frac{||T_{s}(\\rho)||_{tr}-1}{2} = \\sum|\\lambda_{-}|,\n",
    "\\end{equation}\n",
    "em que $\\lambda_{-}$ are the negative eigenvalues of the partial tranpose $T_{s} (s= a,b)$ of the state $\\rho$."
   ]
  },
  {
   "cell_type": "code",
   "execution_count": 16,
   "metadata": {},
   "outputs": [],
   "source": [
    "def negativity(da, db, rho):\n",
    "    d = da*db\n",
    "    rhoTb = zeros(d)\n",
    "    rhoTb = pTransposeB(da, db, rho)\n",
    "    evals = zeros(d)\n",
    "    En = (normTr(d,rhoTb) - 1)/2\n",
    "    return En"
   ]
  },
  {
   "cell_type": "code",
   "execution_count": null,
   "metadata": {},
   "outputs": [],
   "source": []
  }
 ],
 "metadata": {
  "kernelspec": {
   "display_name": "Python 3",
   "language": "python",
   "name": "python3"
  },
  "language_info": {
   "codemirror_mode": {
    "name": "ipython",
    "version": 3
   },
   "file_extension": ".py",
   "mimetype": "text/x-python",
   "name": "python",
   "nbconvert_exporter": "python",
   "pygments_lexer": "ipython3",
   "version": "3.6.4"
  }
 },
 "nbformat": 4,
 "nbformat_minor": 2
}
